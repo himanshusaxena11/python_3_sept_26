{
 "cells": [
  {
   "cell_type": "code",
   "execution_count": 1,
   "id": "4bc45378",
   "metadata": {},
   "outputs": [],
   "source": [
    "x=[67,23,'hello bro','sql',32.8]"
   ]
  },
  {
   "cell_type": "code",
   "execution_count": 3,
   "id": "14c93efe",
   "metadata": {},
   "outputs": [
    {
     "data": {
      "text/plain": [
       "[67, 23, 'hello bro', 'sql', 32.8]"
      ]
     },
     "execution_count": 3,
     "metadata": {},
     "output_type": "execute_result"
    }
   ],
   "source": [
    "x"
   ]
  },
  {
   "cell_type": "code",
   "execution_count": 5,
   "id": "3bd0b13c",
   "metadata": {},
   "outputs": [
    {
     "data": {
      "text/plain": [
       "[67, 23, 'hello bro', 'sql', 32.8]"
      ]
     },
     "execution_count": 5,
     "metadata": {},
     "output_type": "execute_result"
    }
   ],
   "source": [
    "x"
   ]
  },
  {
   "cell_type": "code",
   "execution_count": 6,
   "id": "e7a976c8",
   "metadata": {},
   "outputs": [],
   "source": [
    "x[1:4]=[34,23.1,'hey']"
   ]
  },
  {
   "cell_type": "code",
   "execution_count": 7,
   "id": "8d5e2fb4",
   "metadata": {},
   "outputs": [
    {
     "data": {
      "text/plain": [
       "[67, 34, 23.1, 'hey', 32.8]"
      ]
     },
     "execution_count": 7,
     "metadata": {},
     "output_type": "execute_result"
    }
   ],
   "source": [
    "x"
   ]
  },
  {
   "cell_type": "code",
   "execution_count": 8,
   "id": "0b99e563",
   "metadata": {},
   "outputs": [],
   "source": [
    "x[2:5]=[1]"
   ]
  },
  {
   "cell_type": "code",
   "execution_count": 9,
   "id": "467f113b",
   "metadata": {},
   "outputs": [
    {
     "data": {
      "text/plain": [
       "[67, 34, 1]"
      ]
     },
     "execution_count": 9,
     "metadata": {},
     "output_type": "execute_result"
    }
   ],
   "source": [
    "x"
   ]
  },
  {
   "cell_type": "code",
   "execution_count": 10,
   "id": "41830a8c",
   "metadata": {},
   "outputs": [],
   "source": [
    "# List method\n",
    "# 1. append\n",
    "# 2. index\n",
    "# 3. reverse\n",
    "# 4. copy\n",
    "# 5. pop\n",
    "# 6. remove\n",
    "# 7. extend\n",
    "# 8. sort"
   ]
  },
  {
   "cell_type": "code",
   "execution_count": 11,
   "id": "764be21e",
   "metadata": {},
   "outputs": [],
   "source": [
    "x=[45,'fyghg',35,89.76,34]"
   ]
  },
  {
   "cell_type": "code",
   "execution_count": 12,
   "id": "ac19229e",
   "metadata": {},
   "outputs": [],
   "source": [
    "x.append(2)"
   ]
  },
  {
   "cell_type": "code",
   "execution_count": 13,
   "id": "1377be00",
   "metadata": {},
   "outputs": [
    {
     "data": {
      "text/plain": [
       "[45, 'fyghg', 35, 89.76, 34, 2]"
      ]
     },
     "execution_count": 13,
     "metadata": {},
     "output_type": "execute_result"
    }
   ],
   "source": [
    "x"
   ]
  },
  {
   "cell_type": "code",
   "execution_count": 14,
   "id": "dbae41fc",
   "metadata": {},
   "outputs": [],
   "source": [
    "x.append('hello hi')"
   ]
  },
  {
   "cell_type": "code",
   "execution_count": 15,
   "id": "4966bd9c",
   "metadata": {},
   "outputs": [
    {
     "data": {
      "text/plain": [
       "[45, 'fyghg', 35, 89.76, 34, 2, 'hello hi']"
      ]
     },
     "execution_count": 15,
     "metadata": {},
     "output_type": "execute_result"
    }
   ],
   "source": [
    "x"
   ]
  },
  {
   "cell_type": "code",
   "execution_count": 16,
   "id": "4a489370",
   "metadata": {},
   "outputs": [
    {
     "data": {
      "text/plain": [
       "1"
      ]
     },
     "execution_count": 16,
     "metadata": {},
     "output_type": "execute_result"
    }
   ],
   "source": [
    "x.index('fyghg')"
   ]
  },
  {
   "cell_type": "code",
   "execution_count": 17,
   "id": "e536c186",
   "metadata": {},
   "outputs": [
    {
     "data": {
      "text/plain": [
       "[45, 'fyghg', 35, 89.76, 34, 2, 'hello hi']"
      ]
     },
     "execution_count": 17,
     "metadata": {},
     "output_type": "execute_result"
    }
   ],
   "source": [
    "x.copy()"
   ]
  },
  {
   "cell_type": "code",
   "execution_count": 18,
   "id": "8950bcad",
   "metadata": {},
   "outputs": [],
   "source": [
    "x.extend('hello hi')"
   ]
  },
  {
   "cell_type": "code",
   "execution_count": 21,
   "id": "fd6974eb",
   "metadata": {},
   "outputs": [
    {
     "data": {
      "text/plain": [
       "[45,\n",
       " 'fyghg',\n",
       " 35,\n",
       " 89.76,\n",
       " 34,\n",
       " 2,\n",
       " 'hello hi',\n",
       " 'h',\n",
       " 'e',\n",
       " 'l',\n",
       " 'l',\n",
       " 'o',\n",
       " ' ',\n",
       " 'h',\n",
       " 'i']"
      ]
     },
     "execution_count": 21,
     "metadata": {},
     "output_type": "execute_result"
    }
   ],
   "source": [
    "x"
   ]
  },
  {
   "cell_type": "code",
   "execution_count": 24,
   "id": "dcc5ea44",
   "metadata": {},
   "outputs": [],
   "source": [
    "a=[78,45,89,9.67,'gimme more','awesome']"
   ]
  },
  {
   "cell_type": "code",
   "execution_count": 25,
   "id": "1ac81223",
   "metadata": {},
   "outputs": [
    {
     "data": {
      "text/plain": [
       "'awesome'"
      ]
     },
     "execution_count": 25,
     "metadata": {},
     "output_type": "execute_result"
    }
   ],
   "source": [
    "a.pop()"
   ]
  },
  {
   "cell_type": "code",
   "execution_count": 26,
   "id": "154246a1",
   "metadata": {},
   "outputs": [
    {
     "data": {
      "text/plain": [
       "[78, 45, 89, 9.67, 'gimme more']"
      ]
     },
     "execution_count": 26,
     "metadata": {},
     "output_type": "execute_result"
    }
   ],
   "source": [
    "a"
   ]
  },
  {
   "cell_type": "code",
   "execution_count": 33,
   "id": "27a9964e",
   "metadata": {},
   "outputs": [],
   "source": [
    "a=[78,45,89,9.67,'gimme more','awesome',9.67]\n",
    "a.remove(9.67)"
   ]
  },
  {
   "cell_type": "code",
   "execution_count": 35,
   "id": "0baba3c8",
   "metadata": {},
   "outputs": [
    {
     "data": {
      "text/plain": [
       "[78, 45, 89, 'gimme more', 'awesome', 9.67]"
      ]
     },
     "execution_count": 35,
     "metadata": {},
     "output_type": "execute_result"
    }
   ],
   "source": [
    "a"
   ]
  },
  {
   "cell_type": "code",
   "execution_count": 37,
   "id": "12af91d3",
   "metadata": {},
   "outputs": [],
   "source": [
    "z=[23,12.4,78,89,-35,-90]"
   ]
  },
  {
   "cell_type": "code",
   "execution_count": 38,
   "id": "2bf662f7",
   "metadata": {},
   "outputs": [],
   "source": [
    "z.sort()"
   ]
  },
  {
   "cell_type": "code",
   "execution_count": 39,
   "id": "700fa831",
   "metadata": {},
   "outputs": [
    {
     "data": {
      "text/plain": [
       "[-90, -35, 12.4, 23, 78, 89]"
      ]
     },
     "execution_count": 39,
     "metadata": {},
     "output_type": "execute_result"
    }
   ],
   "source": [
    "z"
   ]
  },
  {
   "cell_type": "code",
   "execution_count": 41,
   "id": "a89cfdc7",
   "metadata": {},
   "outputs": [],
   "source": [
    "z.sort(reverse= True)"
   ]
  },
  {
   "cell_type": "code",
   "execution_count": 42,
   "id": "ec7916e8",
   "metadata": {},
   "outputs": [
    {
     "data": {
      "text/plain": [
       "[89, 78, 23, 12.4, -35, -90]"
      ]
     },
     "execution_count": 42,
     "metadata": {},
     "output_type": "execute_result"
    }
   ],
   "source": [
    "z"
   ]
  },
  {
   "cell_type": "code",
   "execution_count": 54,
   "id": "a816f04d",
   "metadata": {},
   "outputs": [],
   "source": [
    "r =[34,90,-34,True,23,3.1]"
   ]
  },
  {
   "cell_type": "code",
   "execution_count": 55,
   "id": "8067aa7d",
   "metadata": {},
   "outputs": [],
   "source": [
    "r.reverse()"
   ]
  },
  {
   "cell_type": "code",
   "execution_count": 56,
   "id": "8a2f1d60",
   "metadata": {},
   "outputs": [
    {
     "data": {
      "text/plain": [
       "[3.1, 23, True, -34, 90, 34]"
      ]
     },
     "execution_count": 56,
     "metadata": {},
     "output_type": "execute_result"
    }
   ],
   "source": [
    "r"
   ]
  },
  {
   "cell_type": "code",
   "execution_count": 65,
   "id": "31043ef0",
   "metadata": {},
   "outputs": [
    {
     "data": {
      "text/plain": [
       "[-26, 3, -67, 78, 34]"
      ]
     },
     "execution_count": 65,
     "metadata": {},
     "output_type": "execute_result"
    }
   ],
   "source": [
    "#wap to reverse a list\n",
    "a=[34,78,-67,3,-26]\n",
    "a.reverse()\n",
    "a"
   ]
  },
  {
   "cell_type": "code",
   "execution_count": 92,
   "id": "007d8a14",
   "metadata": {},
   "outputs": [
    {
     "data": {
      "text/plain": [
       "[-26, 3, -67, 78, 34]"
      ]
     },
     "execution_count": 92,
     "metadata": {},
     "output_type": "execute_result"
    }
   ],
   "source": [
    "#wap to reverse a list\n",
    "a=[34,78,-67,3,-26]\n",
    "a[::-1]"
   ]
  },
  {
   "cell_type": "code",
   "execution_count": 97,
   "id": "fada19c7",
   "metadata": {},
   "outputs": [
    {
     "data": {
      "text/plain": [
       "[-21, 90, -4, True, 'boolean', 67]"
      ]
     },
     "execution_count": 97,
     "metadata": {},
     "output_type": "execute_result"
    }
   ],
   "source": [
    "#wap to swap first and last no of a list\n",
    "a=[67,90,-4,True,'boolean',-21]\n",
    "a[0],a[-1]=a[-1],a[0]\n",
    "a"
   ]
  },
  {
   "cell_type": "code",
   "execution_count": 11,
   "id": "cab063b5",
   "metadata": {},
   "outputs": [
    {
     "name": "stdout",
     "output_type": "stream",
     "text": [
      "max 97\n"
     ]
    }
   ],
   "source": [
    "#wap to find max no in list\n",
    "a=[23,89,-34,97,-56]\n",
    "b=a[0]\n",
    "for i in a:\n",
    "    if b<i:\n",
    "        b=i\n",
    "print('max',b)"
   ]
  },
  {
   "cell_type": "code",
   "execution_count": 22,
   "id": "215db8cb",
   "metadata": {},
   "outputs": [
    {
     "name": "stdout",
     "output_type": "stream",
     "text": [
      "max 100\n"
     ]
    }
   ],
   "source": [
    "#wap to find max no in list #NEVER TAKE 0 FOR COMPARISON IN CASE OF GREATEST AND SMALLEST NO AS IT WILL CREATE BUG IN SOME CODES\n",
    "a=[63,60,89,22,30,78,100]\n",
    "max=0\n",
    "for i in a:\n",
    "    if max<i:\n",
    "        max=i\n",
    "print('max',max)"
   ]
  },
  {
   "cell_type": "code",
   "execution_count": 23,
   "id": "e7ac575d",
   "metadata": {},
   "outputs": [
    {
     "name": "stdout",
     "output_type": "stream",
     "text": [
      "-97\n"
     ]
    }
   ],
   "source": [
    "#wap to find min no in list\n",
    "a=[23,89,-45,12,-97,67]\n",
    "b=a[0]\n",
    "for i in a:\n",
    "    if b>i:\n",
    "        b=i\n",
    "print(b)"
   ]
  },
  {
   "cell_type": "code",
   "execution_count": 83,
   "id": "354aadda",
   "metadata": {},
   "outputs": [
    {
     "name": "stdout",
     "output_type": "stream",
     "text": [
      "119\n"
     ]
    }
   ],
   "source": [
    "#wap to find sum of no in list\n",
    "a=[23,89,-34,97,-56]\n",
    "b=0\n",
    "for i in a:\n",
    "    b=b+i\n",
    "print(b)"
   ]
  },
  {
   "cell_type": "code",
   "execution_count": 89,
   "id": "064f06c2",
   "metadata": {},
   "outputs": [
    {
     "name": "stdout",
     "output_type": "stream",
     "text": [
      "invalid\n",
      "invalid\n",
      "invalid\n",
      "even>>>> 32\n",
      "even>>>> 54\n",
      "invalid\n",
      "invalid\n"
     ]
    }
   ],
   "source": [
    "#wap to print even no in a list\n",
    "x=[3,9,45,32,54,37,53]\n",
    "for i in x:\n",
    "    if i%2!=0:\n",
    "        print('invalid')\n",
    "    else:\n",
    "        print('even>>>>',i)"
   ]
  },
  {
   "cell_type": "code",
   "execution_count": 91,
   "id": "657c552f",
   "metadata": {},
   "outputs": [
    {
     "name": "stdout",
     "output_type": "stream",
     "text": [
      "odd>>> 3\n",
      "odd>>> 9\n",
      "odd>>> 45\n",
      "nr\n",
      "nr\n",
      "odd>>> 37\n",
      "odd>>> 53\n"
     ]
    }
   ],
   "source": [
    "#wap to print odd no in a list\n",
    "x=[3,9,45,32,54,37,53]\n",
    "for i in x:\n",
    "    if i%2!=0:\n",
    "        print('odd>>>',i)\n",
    "    else:\n",
    "        print('nr')"
   ]
  },
  {
   "cell_type": "code",
   "execution_count": 42,
   "id": "c8715aa6",
   "metadata": {},
   "outputs": [
    {
     "name": "stdout",
     "output_type": "stream",
     "text": [
      "even 32\n",
      "even 54\n",
      "odd 37\n",
      "even 22\n",
      "odd 53\n",
      "count of even 3\n",
      "count of odd 2\n"
     ]
    }
   ],
   "source": [
    "#WAP to count odd and even no in a list\n",
    "x=[32,54,37,22,53]\n",
    "count_of_even=0\n",
    "count_of_odd=0\n",
    "for i in x:\n",
    "    if i%2==0:\n",
    "        print('even',i)\n",
    "        count_of_even=count_of_even+1\n",
    "    else:\n",
    "        print('odd',i)\n",
    "        count_of_odd=count_of_odd+1\n",
    "print('count of even',count_of_even)\n",
    "print('count of odd',count_of_odd)"
   ]
  },
  {
   "cell_type": "code",
   "execution_count": 50,
   "id": "b4f2ec9c",
   "metadata": {},
   "outputs": [
    {
     "name": "stdout",
     "output_type": "stream",
     "text": [
      "common element>> 48\n",
      "common element>> 23\n",
      "nc\n"
     ]
    }
   ],
   "source": [
    "#wap to find common element in alist\n",
    "x=[48,23,78,34,65]\n",
    "z=[56,72,54,48,23]\n",
    "for i in x:\n",
    "    for j in z:\n",
    "        if i==j:\n",
    "            print('common element>>',i)\n",
    "else:\n",
    "    print('nc')"
   ]
  },
  {
   "cell_type": "code",
   "execution_count": 52,
   "id": "d469d8a5",
   "metadata": {},
   "outputs": [
    {
     "data": {
      "text/plain": [
       "list"
      ]
     },
     "execution_count": 52,
     "metadata": {},
     "output_type": "execute_result"
    }
   ],
   "source": [
    "#wap to create single element list\n",
    "a=[8]\n",
    "type(a)"
   ]
  },
  {
   "cell_type": "code",
   "execution_count": 54,
   "id": "d01d7ff7",
   "metadata": {},
   "outputs": [
    {
     "data": {
      "text/plain": [
       "list"
      ]
     },
     "execution_count": 54,
     "metadata": {},
     "output_type": "execute_result"
    }
   ],
   "source": [
    "#wap to create empty list\n",
    "a=[]\n",
    "type(a)"
   ]
  },
  {
   "cell_type": "code",
   "execution_count": 62,
   "id": "2e1f20d6",
   "metadata": {},
   "outputs": [
    {
     "name": "stdout",
     "output_type": "stream",
     "text": [
      "4\n",
      "44\n",
      "444\n",
      "num is palindrome\n"
     ]
    }
   ],
   "source": [
    "#wap to check no is palindrome or not\n",
    "x='444'\n",
    "y=''\n",
    "for i in x:\n",
    "    y=i+y\n",
    "    print(y)\n",
    "if x==y:\n",
    "    print('num is palindrome')\n",
    "else:\n",
    "    print('np')"
   ]
  },
  {
   "cell_type": "code",
   "execution_count": null,
   "id": "3e5832d6",
   "metadata": {},
   "outputs": [],
   "source": []
  }
 ],
 "metadata": {
  "kernelspec": {
   "display_name": "Python 3 (ipykernel)",
   "language": "python",
   "name": "python3"
  },
  "language_info": {
   "codemirror_mode": {
    "name": "ipython",
    "version": 3
   },
   "file_extension": ".py",
   "mimetype": "text/x-python",
   "name": "python",
   "nbconvert_exporter": "python",
   "pygments_lexer": "ipython3",
   "version": "3.9.12"
  }
 },
 "nbformat": 4,
 "nbformat_minor": 5
}
